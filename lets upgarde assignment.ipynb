{
 "cells": [
  {
   "cell_type": "code",
   "execution_count": 7,
   "id": "0d7f03f9",
   "metadata": {},
   "outputs": [
    {
     "name": "stdout",
     "output_type": "stream",
     "text": [
      "Enter a number : 5\n",
      "The Given Number Is Positive\n"
     ]
    }
   ],
   "source": [
    "y=int(input(\"Enter a number : \"))\n",
    "if y>0:\n",
    "    print(\"The Given Number Is Positive\")\n",
    "elif y==0:\n",
    "    print(\"The Given Number Is Zero\")\n",
    "elif y<0:\n",
    "    print(\"The Given Number Is Negative\")"
   ]
  },
  {
   "cell_type": "code",
   "execution_count": null,
   "id": "01053fe2",
   "metadata": {},
   "outputs": [],
   "source": []
  }
 ],
 "metadata": {
  "kernelspec": {
   "display_name": "Python 3 (ipykernel)",
   "language": "python",
   "name": "python3"
  },
  "language_info": {
   "codemirror_mode": {
    "name": "ipython",
    "version": 3
   },
   "file_extension": ".py",
   "mimetype": "text/x-python",
   "name": "python",
   "nbconvert_exporter": "python",
   "pygments_lexer": "ipython3",
   "version": "3.9.13"
  }
 },
 "nbformat": 4,
 "nbformat_minor": 5
}
